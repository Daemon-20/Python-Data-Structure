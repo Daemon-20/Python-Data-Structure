{
  "nbformat": 4,
  "nbformat_minor": 0,
  "metadata": {
    "colab": {
      "provenance": []
    },
    "kernelspec": {
      "name": "python3",
      "display_name": "Python 3"
    },
    "language_info": {
      "name": "python"
    }
  },
  "cells": [
    {
      "cell_type": "markdown",
      "source": [
        "# Text Questions"
      ],
      "metadata": {
        "id": "vYLuH_YdyLhb"
      }
    },
    {
      "cell_type": "markdown",
      "source": [
        "1. What are data structures, and why are they important?\n",
        "\n",
        "- Data structures are methods of data storage and organization within a computer in a way that it can be accessed and utilized effectively. They are important as they facilitate effective data management and retrieval, which is important to the performance of algorithms and software programs.\n"
      ],
      "metadata": {
        "id": "9_Q_w1iyyT3b"
      }
    },
    {
      "cell_type": "markdown",
      "source": [
        "2. Explain the difference between mutable and immutable data types with examples.\n",
        "\n",
        "- Mutable data types are modifiable once they are declared. Examples include lists and dictionaries. Immutable data types cannot be modified once they are declared. Examples include strings and tuples.\n"
      ],
      "metadata": {
        "id": "esC0KvESyTdj"
      }
    },
    {
      "cell_type": "markdown",
      "source": [
        "3. What are the main differences between lists and tuples in Python?\n",
        "\n",
        "- Lists are mutable, i.e., their contents can be changed after they are defined, while tuples are immutable, i.e., their contents cannot be changed after they are defined. Lists are defined in square brackets, while tuples are defined in parentheses ()."
      ],
      "metadata": {
        "id": "cz7Tp2uXj9s0"
      }
    },
    {
      "cell_type": "markdown",
      "source": [
        "4. Describe how dictionaries store data.\n",
        "- Dictionaries store values in key-value pairs. All keys are unique and are utilized to fetch the value associated with it."
      ],
      "metadata": {
        "id": "Dd2Ue51tj9oP"
      }
    },
    {
      "cell_type": "markdown",
      "source": [
        "5. Why might you use a set instead of a list in Python?\n",
        "\n",
        "- We would use a set over a list in Python should we wish to hold a group of variously different elements when we require testing for membership, union, or intersection in some efficient manner. Sets eliminate duplicates automatically."
      ],
      "metadata": {
        "id": "ap4SIg0ij9j3"
      }
    },
    {
      "cell_type": "markdown",
      "source": [
        "6. What is a string in Python, and how is it different from a list?\n",
        "- In Python, a string is an array of characters. Strings cannot change, whereas lists can change. Strings are used to hold text, whereas lists hold a list of elements of any data type."
      ],
      "metadata": {
        "id": "9hNhYDdEj9eu"
      }
    },
    {
      "cell_type": "markdown",
      "source": [
        "7. How do tuples ensure data integrity in Python?\n",
        "\n",
        "- Tuples ensure data integrity in Python since they are immutable. That is, after you have declared a tuple, its members cannot be added, changed, or removed, and therefore any unintended modifications to data cannot be done.\n"
      ],
      "metadata": {
        "id": "pGQv-mrGj9Z7"
      }
    },
    {
      "cell_type": "markdown",
      "source": [
        "8. What is a hash table, and how does it relate to dictionaries in Python?\n",
        "\n",
        "- A hash table is an array data structure containing key-value pairs that uses a hash function to select an index into an array of buckets or slots, from which the desired value can be retrieved. Python dictionaries are implemented as hash tables, providing efficient data access by keys."
      ],
      "metadata": {
        "id": "YhMUbTglj9Ut"
      }
    },
    {
      "cell_type": "markdown",
      "source": [
        "9. Can lists contain different data types in Python?\n",
        "\n",
        "-\n",
        "Yes, Python lists can contain elements of different data types."
      ],
      "metadata": {
        "id": "qYzO-Z0Rj9C9"
      }
    },
    {
      "cell_type": "markdown",
      "source": [
        "10. Explain why strings are immutable in Python.\n",
        "\n",
        "- Strings in Python are immutable because it makes memory management easier. When we create a string, memory space is allocated to it, and if strings were mutable, modifying a string value would mean a reallocation of memory, which is inefficient. Immutability prevents that."
      ],
      "metadata": {
        "id": "wN1cQ1vvj8-Q"
      }
    },
    {
      "cell_type": "markdown",
      "source": [
        "11. What advantages do dictionaries offer over lists for certain tasks?\n",
        "- Dictionaries are better than lists for operations like searching, insertion, or deletion of an element by a key. Dictionaries offer quicker retrieval of data through keys than lists, where you might end up traversing the list in order to obtain an element."
      ],
      "metadata": {
        "id": "fylDtqA6j86J"
      }
    },
    {
      "cell_type": "markdown",
      "source": [
        "12. Describe a scenario where using a tuple would be preferable over a list.\n",
        "\n",
        "\n",
        "\n",
        "- A tuple would be preferable to a list if you're dealing with a list of things that must never be changed, such as when you're establishing a set of values that are fixed like coordinates (x, y) or configuration settings."
      ],
      "metadata": {
        "id": "1htrGHsHj81x"
      }
    },
    {
      "cell_type": "markdown",
      "source": [
        "13. How do sets handle duplicate values in Python?\n",
        "\n",
        "- Python sets automatically discard duplicate values. If we attempt to add a duplicate value to a set, it will be ignored."
      ],
      "metadata": {
        "id": "zyyVae4Xj8xV"
      }
    },
    {
      "cell_type": "markdown",
      "source": [
        "14. How does the “in” keyword work differently for lists and dictionaries?\n",
        "- For lists, the \"in\" keyword does a linear search down the list for membership, which will be slow for large lists. For dictionaries, the \"in\" keyword tests if a key is in the dictionary's keys, which will be very fast because dictionaries implement hash tables to do efficient key lookups."
      ],
      "metadata": {
        "id": "6oOyS3XTj8rn"
      }
    },
    {
      "cell_type": "markdown",
      "source": [
        "15. Can you modify the elements of a tuple? Explain why or why not.\n",
        "- No, we cannot modify the elements of a tuple. Tuples cannot be modified, and we cannot modify the elements after we have declared the tuple."
      ],
      "metadata": {
        "id": "pgjJJIWCj8no"
      }
    },
    {
      "cell_type": "markdown",
      "source": [
        "16. What is a nested dictionary, and give an example of its use case?\n",
        "- A nested dictionary is a dictionary containing dictionary values. One example is to create a sophisticated data structure, for instance, a configuration with various sections and sub-sections."
      ],
      "metadata": {
        "id": "HLu2zM4_j8jc"
      }
    },
    {
      "cell_type": "markdown",
      "source": [
        "17. Describe the time complexity of accessing elements in a dictionary.\n",
        "- The general time complexity to access elements of a dictionary is O(1), i.e., constant time, irrespective of the dictionary size, because of the implementation using hash tables."
      ],
      "metadata": {
        "id": "hS6MSoGyj8dF"
      }
    },
    {
      "cell_type": "markdown",
      "source": [
        "18. In what situations are lists preferred over dictionaries?\n",
        "- Lists are superior to dictionaries when we must maintain a sorted list of objects, and where the position of the objects is important. Lists are superior when we don't have to access elements by key but by where they are in the sequence."
      ],
      "metadata": {
        "id": "YXGse3Kaj8ZS"
      }
    },
    {
      "cell_type": "markdown",
      "source": [
        "19. Why are dictionaries considered unordered, and how does that affect data retrieval?\n",
        "- Dictionaries are not sorted because the insertion order of the elements is not necessarily the same as the order. This is due to the fact that dictionaries employ hash tables to hold elements, where elements are accessed by their hash values rather than by insertion order. Dictionary data retrieval is therefore key-based, not position-based."
      ],
      "metadata": {
        "id": "gvrvM0ols322"
      }
    },
    {
      "cell_type": "markdown",
      "source": [
        "20. Explain the difference between a list and a dictionary in terms of data retrieval.\n",
        "- In a list, data retrieval is always done by searching elements by their index, and it's slow if you want to look up for a specific value. In a dictionary, data retrieval is by the use of keys, and it's very efficient because hash tables are used."
      ],
      "metadata": {
        "id": "0bcj1Mzds3hh"
      }
    },
    {
      "cell_type": "markdown",
      "source": [
        "# Practical Questions"
      ],
      "metadata": {
        "id": "r7hSQNrSs5Wu"
      }
    },
    {
      "cell_type": "code",
      "execution_count": 2,
      "metadata": {
        "colab": {
          "base_uri": "https://localhost:8080/"
        },
        "id": "LpTbCnb2eb7C",
        "outputId": "c9d3918d-9e48-4a97-9124-2a98b94a9f26"
      },
      "outputs": [
        {
          "output_type": "stream",
          "name": "stdout",
          "text": [
            "Abhinab Singha\n"
          ]
        }
      ],
      "source": [
        "#1. Write a code to create a string with your name and print it.\n",
        "\n",
        "my_name = \"Abhinab Singha\"\n",
        "print(my_name)"
      ]
    },
    {
      "cell_type": "code",
      "source": [
        "#2. Write a code to find the length of the string “Hello World”.\n",
        "\n",
        "my_string = \"Hello World\"\n",
        "length = len(my_string)\n",
        "print(length)"
      ],
      "metadata": {
        "colab": {
          "base_uri": "https://localhost:8080/"
        },
        "id": "ZANtP6Pftuq-",
        "outputId": "f4f067a2-9d06-4a67-d318-967a5b6aa202"
      },
      "execution_count": 3,
      "outputs": [
        {
          "output_type": "stream",
          "name": "stdout",
          "text": [
            "11\n"
          ]
        }
      ]
    },
    {
      "cell_type": "code",
      "source": [
        "#3. Write a code to slice the first 3 characters from the string “Python Programming”.\n",
        "\n",
        "my_string = \"Python Programming\"\n",
        "sliced_string = my_string[:3]\n",
        "print(sliced_string)"
      ],
      "metadata": {
        "colab": {
          "base_uri": "https://localhost:8080/"
        },
        "id": "-udZ6-Bwt3SD",
        "outputId": "ce4d6068-9018-4bce-d8ea-d13da4e5f620"
      },
      "execution_count": 4,
      "outputs": [
        {
          "output_type": "stream",
          "name": "stdout",
          "text": [
            "Pyt\n"
          ]
        }
      ]
    },
    {
      "cell_type": "code",
      "source": [
        "#4. Write a code to convert the string “hello” to uppercase.\n",
        "\n",
        "my_string = \"hello\"\n",
        "uppercase_string = my_string.upper()\n",
        "print(uppercase_string)"
      ],
      "metadata": {
        "colab": {
          "base_uri": "https://localhost:8080/"
        },
        "id": "x0eBvWeqt7Qe",
        "outputId": "bfa77dcd-2c8f-48d2-a89b-af015aeb5819"
      },
      "execution_count": 5,
      "outputs": [
        {
          "output_type": "stream",
          "name": "stdout",
          "text": [
            "HELLO\n"
          ]
        }
      ]
    },
    {
      "cell_type": "code",
      "source": [
        "#5. Write a code to replace the word “apple” with “orange” in the string “I like apple”.\n",
        "\n",
        "my_string = \"I like apple\"\n",
        "new_string = my_string.replace(\"apple\", \"orange\")\n",
        "print(new_string)"
      ],
      "metadata": {
        "colab": {
          "base_uri": "https://localhost:8080/"
        },
        "id": "0BEpeJEGuGCL",
        "outputId": "1ec787bd-dcb1-48fa-e961-857297c481cf"
      },
      "execution_count": 6,
      "outputs": [
        {
          "output_type": "stream",
          "name": "stdout",
          "text": [
            "I like orange\n"
          ]
        }
      ]
    },
    {
      "cell_type": "code",
      "source": [
        "#6. Write a code to create a list with numbers 1 to 5 and print it.\n",
        "\n",
        "my_list = [1, 2, 3, 4, 5]\n",
        "print(my_list)"
      ],
      "metadata": {
        "colab": {
          "base_uri": "https://localhost:8080/"
        },
        "id": "7jhjo749uVW7",
        "outputId": "06227697-22da-4507-a213-1aebabaf8a30"
      },
      "execution_count": 7,
      "outputs": [
        {
          "output_type": "stream",
          "name": "stdout",
          "text": [
            "[1, 2, 3, 4, 5]\n"
          ]
        }
      ]
    },
    {
      "cell_type": "code",
      "source": [
        "#7. Write a code to append the number 10 to the list [1, 2, 3, 4].\n",
        "\n",
        "my_list = [1, 2, 3, 4]\n",
        "my_list.append(10)\n",
        "print(my_list)"
      ],
      "metadata": {
        "colab": {
          "base_uri": "https://localhost:8080/"
        },
        "id": "KiV2pzl3ubsx",
        "outputId": "70dc9e46-9f77-4d67-a9ab-0a4bffdfdd80"
      },
      "execution_count": 8,
      "outputs": [
        {
          "output_type": "stream",
          "name": "stdout",
          "text": [
            "[1, 2, 3, 4, 10]\n"
          ]
        }
      ]
    },
    {
      "cell_type": "code",
      "source": [
        "#8. Write a code to remove the number 3 from the list [1, 2, 3, 4, 5].\n",
        "\n",
        "my_list = [1, 2, 3, 4, 5]\n",
        "my_list.remove(3)\n",
        "print(my_list)"
      ],
      "metadata": {
        "colab": {
          "base_uri": "https://localhost:8080/"
        },
        "id": "bO7Zuv9Zuhq2",
        "outputId": "c07d5194-151d-42ee-aedb-adb9028be539"
      },
      "execution_count": 9,
      "outputs": [
        {
          "output_type": "stream",
          "name": "stdout",
          "text": [
            "[1, 2, 4, 5]\n"
          ]
        }
      ]
    },
    {
      "cell_type": "code",
      "source": [
        "#9. Write a code to access the second element in the list ['a', 'b', 'c', 'd'].\n",
        "\n",
        "my_list = ['a', 'b', 'c', 'd']\n",
        "second_element = my_list[1]\n",
        "print(second_element)"
      ],
      "metadata": {
        "colab": {
          "base_uri": "https://localhost:8080/"
        },
        "id": "TYGD-L7junCM",
        "outputId": "cbd37317-b75f-4651-dd82-c5c1bebf7b14"
      },
      "execution_count": 10,
      "outputs": [
        {
          "output_type": "stream",
          "name": "stdout",
          "text": [
            "b\n"
          ]
        }
      ]
    },
    {
      "cell_type": "code",
      "source": [
        "#10. Write a code to reverse the list [10, 20, 30, 40, 50].\n",
        "\n",
        "my_list = [10, 20, 30, 40, 50]\n",
        "my_list.reverse()\n",
        "print(my_list)"
      ],
      "metadata": {
        "colab": {
          "base_uri": "https://localhost:8080/"
        },
        "id": "72oG2vZXuroN",
        "outputId": "a93e804e-34d7-401b-8863-1c7e815d0f51"
      },
      "execution_count": 11,
      "outputs": [
        {
          "output_type": "stream",
          "name": "stdout",
          "text": [
            "[50, 40, 30, 20, 10]\n"
          ]
        }
      ]
    },
    {
      "cell_type": "code",
      "source": [
        "#11. Write a code to create a tuple with the elements 100, 200, 300 and print it.\n",
        "\n",
        "my_tuple = (100, 200, 300)\n",
        "print(my_tuple)"
      ],
      "metadata": {
        "colab": {
          "base_uri": "https://localhost:8080/"
        },
        "id": "BAkAFUiKuy9H",
        "outputId": "d2c26714-6d01-45ba-fbe2-492f09370a7c"
      },
      "execution_count": 12,
      "outputs": [
        {
          "output_type": "stream",
          "name": "stdout",
          "text": [
            "(100, 200, 300)\n"
          ]
        }
      ]
    },
    {
      "cell_type": "code",
      "source": [
        "#12. Write a code to access the second-to-last element of the tuple (‘red’, ‘green’, ‘blue’, ‘yellow’).\n",
        "\n",
        "my_tuple = ('red', 'green', 'blue', 'yellow')\n",
        "second_to_last = my_tuple[-2]\n",
        "print(second_to_last)"
      ],
      "metadata": {
        "colab": {
          "base_uri": "https://localhost:8080/"
        },
        "id": "OkGQO2f_u4B-",
        "outputId": "f89dd9ee-e636-41e7-8369-4518e016ff0e"
      },
      "execution_count": 13,
      "outputs": [
        {
          "output_type": "stream",
          "name": "stdout",
          "text": [
            "blue\n"
          ]
        }
      ]
    },
    {
      "cell_type": "code",
      "source": [
        "#13. Write a code to find the minimum number in the tuple (10, 20, 5, 15).\n",
        "\n",
        "my_tuple = (10, 20, 5, 15)\n",
        "min_number = min(my_tuple)\n",
        "print(min_number)"
      ],
      "metadata": {
        "colab": {
          "base_uri": "https://localhost:8080/"
        },
        "id": "UylZ8402u_B-",
        "outputId": "cf1982d2-4ee1-4f45-b167-251af47c2bbe"
      },
      "execution_count": 14,
      "outputs": [
        {
          "output_type": "stream",
          "name": "stdout",
          "text": [
            "5\n"
          ]
        }
      ]
    },
    {
      "cell_type": "code",
      "source": [
        "#14. Write a code to find the index of the element “cat” in the tuple (‘dog’, ‘cat’, ‘rabbit’).\n",
        "\n",
        "my_tuple = ('dog', 'cat', 'rabbit')\n",
        "index_cat = my_tuple.index('cat')\n",
        "print(index_cat)"
      ],
      "metadata": {
        "colab": {
          "base_uri": "https://localhost:8080/"
        },
        "id": "qSUHvQqKvPv6",
        "outputId": "d30f6407-953e-4ef0-9554-b402cacc55de"
      },
      "execution_count": 15,
      "outputs": [
        {
          "output_type": "stream",
          "name": "stdout",
          "text": [
            "1\n"
          ]
        }
      ]
    },
    {
      "cell_type": "code",
      "source": [
        "#15. Write a code to create a tuple containing three different fruits and check if “kiwi” is in it.\n",
        "\n",
        "my_tuple = ('apple', 'banana', 'orange')\n",
        "is_kiwi_in = \"kiwi\" in my_tuple\n",
        "print(is_kiwi_in)"
      ],
      "metadata": {
        "colab": {
          "base_uri": "https://localhost:8080/"
        },
        "id": "TsvK8Y4UvW78",
        "outputId": "b1e9c836-9a3e-4570-ab76-9469ca2a3730"
      },
      "execution_count": 16,
      "outputs": [
        {
          "output_type": "stream",
          "name": "stdout",
          "text": [
            "False\n"
          ]
        }
      ]
    },
    {
      "cell_type": "code",
      "source": [
        "#16. Write a code to create a set with the elements ‘a’, ‘b’, ‘c’ and print it.\n",
        "\n",
        "my_set = {'a', 'b', 'c'}\n",
        "print(my_set)"
      ],
      "metadata": {
        "colab": {
          "base_uri": "https://localhost:8080/"
        },
        "id": "GPDFD6t-vfYv",
        "outputId": "f704140b-bfbd-4602-8675-d2c90e3bae38"
      },
      "execution_count": 19,
      "outputs": [
        {
          "output_type": "stream",
          "name": "stdout",
          "text": [
            "{'b', 'c', 'a'}\n"
          ]
        }
      ]
    },
    {
      "cell_type": "code",
      "source": [
        "#17. Write a code to clear all elements from the set {1, 2, 3, 4, 5}.\n",
        "\n",
        "my_set = {1, 2, 3, 4, 5}\n",
        "my_set.clear()\n",
        "print(my_set)"
      ],
      "metadata": {
        "colab": {
          "base_uri": "https://localhost:8080/"
        },
        "id": "UUJ2IWXZvjLi",
        "outputId": "09fb5857-9da8-47fb-f46b-487f40bd3ed5"
      },
      "execution_count": 21,
      "outputs": [
        {
          "output_type": "stream",
          "name": "stdout",
          "text": [
            "set()\n"
          ]
        }
      ]
    },
    {
      "cell_type": "code",
      "source": [
        "#18. Write a code to remove the element 4 from the set {1, 2, 3, 4}.\n",
        "\n",
        "my_set = {1, 2, 3, 4}\n",
        "my_set.remove(4)\n",
        "print(my_set)"
      ],
      "metadata": {
        "colab": {
          "base_uri": "https://localhost:8080/"
        },
        "id": "VSbx2Ydpv0Yy",
        "outputId": "9423160d-0bcd-4487-9b20-e2adf9eec65d"
      },
      "execution_count": 22,
      "outputs": [
        {
          "output_type": "stream",
          "name": "stdout",
          "text": [
            "{1, 2, 3}\n"
          ]
        }
      ]
    },
    {
      "cell_type": "code",
      "source": [
        "#19. Write a code to find the union of two sets {1, 2, 3} and {3, 4, 5}.\n",
        "\n",
        "set1 = {1, 2, 3}\n",
        "set2 = {3, 4, 5}\n",
        "union_set = set1.union(set2)\n",
        "print(union_set)"
      ],
      "metadata": {
        "colab": {
          "base_uri": "https://localhost:8080/"
        },
        "id": "OWnzVapov8Dt",
        "outputId": "346277e5-c1af-4b33-9789-6c32e7d542a1"
      },
      "execution_count": 23,
      "outputs": [
        {
          "output_type": "stream",
          "name": "stdout",
          "text": [
            "{1, 2, 3, 4, 5}\n"
          ]
        }
      ]
    },
    {
      "cell_type": "code",
      "source": [
        "#20. Write a code to find the intersection of two sets {1, 2, 3} and {2, 3, 4}.\n",
        "\n",
        "set1 = {1, 2, 3}\n",
        "set2 = {2, 3, 4}\n",
        "intersection_set = set1.intersection(set2)\n",
        "print(intersection_set)"
      ],
      "metadata": {
        "colab": {
          "base_uri": "https://localhost:8080/"
        },
        "id": "t9LKotnmwBo7",
        "outputId": "8409e600-a15b-4176-a6e8-f93faac38924"
      },
      "execution_count": 24,
      "outputs": [
        {
          "output_type": "stream",
          "name": "stdout",
          "text": [
            "{2, 3}\n"
          ]
        }
      ]
    },
    {
      "cell_type": "code",
      "source": [
        "#21. Write a code to create a dictionary with the keys “name”, “age”, and “city”, and print it.\n",
        "\n",
        "my_dict = {\"name\": \"Abhinab\", \"age\": 24, \"city\": \"Siliguri\"}\n",
        "print(my_dict)"
      ],
      "metadata": {
        "colab": {
          "base_uri": "https://localhost:8080/"
        },
        "id": "7Chy5K33wF3e",
        "outputId": "f8ee6f39-01fc-4a80-8469-7a9884d48753"
      },
      "execution_count": 26,
      "outputs": [
        {
          "output_type": "stream",
          "name": "stdout",
          "text": [
            "{'name': 'Abhinab', 'age': 24, 'city': 'Siliguri'}\n"
          ]
        }
      ]
    },
    {
      "cell_type": "code",
      "source": [
        "#22. Write a code to add a new key-value pair “country”: “USA” to the dictionary {‘name’: ‘John’, ‘age’: 25}.\n",
        "\n",
        "my_dict = {'name': 'John', 'age': 25}\n",
        "my_dict[\"country\"] = \"USA\"\n",
        "print(my_dict)"
      ],
      "metadata": {
        "colab": {
          "base_uri": "https://localhost:8080/"
        },
        "id": "ywRNRRGPwK48",
        "outputId": "004fce94-737a-4b9c-963e-36beafacc51f"
      },
      "execution_count": 27,
      "outputs": [
        {
          "output_type": "stream",
          "name": "stdout",
          "text": [
            "{'name': 'John', 'age': 25, 'country': 'USA'}\n"
          ]
        }
      ]
    },
    {
      "cell_type": "code",
      "source": [
        "#23. Write a code to access the value associated with the key “name” in the dictionary {‘name’: ‘Alice’, ‘age’: 30}.\n",
        "\n",
        "my_dict = {'name': 'Alice', 'age': 30}\n",
        "name_value = my_dict[\"name\"]\n",
        "print(name_value)"
      ],
      "metadata": {
        "colab": {
          "base_uri": "https://localhost:8080/"
        },
        "id": "psf2on3GwipK",
        "outputId": "c47d2412-0700-4775-f23e-41705cbd8db8"
      },
      "execution_count": 28,
      "outputs": [
        {
          "output_type": "stream",
          "name": "stdout",
          "text": [
            "Alice\n"
          ]
        }
      ]
    },
    {
      "cell_type": "code",
      "source": [
        "#24. Write a code to remove the key “age” from the dictionary {‘name’: ‘Bob’, ‘age’: 22, ‘city’: ‘New York’}.\n",
        "\n",
        "my_dict = {'name': 'Bob', 'age': 22, 'city': 'New York'}\n",
        "my_dict.pop(\"age\")\n",
        "print(my_dict)"
      ],
      "metadata": {
        "colab": {
          "base_uri": "https://localhost:8080/"
        },
        "id": "pCb_Fq04woJJ",
        "outputId": "2e0d67be-4aa9-4d1e-a0f7-e944737f98e2"
      },
      "execution_count": 29,
      "outputs": [
        {
          "output_type": "stream",
          "name": "stdout",
          "text": [
            "{'name': 'Bob', 'city': 'New York'}\n"
          ]
        }
      ]
    },
    {
      "cell_type": "code",
      "source": [
        "#25. Write a code to check if the key “city” exists in the dictionary {‘name’: ‘Alice’, ‘city’: ‘Paris’}.\n",
        "\n",
        "my_dict = {'name': 'Alice', 'city': 'Paris'}\n",
        "city_exists = \"city\" in my_dict\n",
        "print(city_exists)"
      ],
      "metadata": {
        "colab": {
          "base_uri": "https://localhost:8080/"
        },
        "id": "rKhN2uJTwyTg",
        "outputId": "8ce36904-4367-47bb-adb7-9cdc8a4af141"
      },
      "execution_count": 30,
      "outputs": [
        {
          "output_type": "stream",
          "name": "stdout",
          "text": [
            "True\n"
          ]
        }
      ]
    },
    {
      "cell_type": "code",
      "source": [
        "#26. Write a code to create a list, a tuple, and a dictionary, and print them all.\n",
        "\n",
        "my_list = [1, 2, 3]\n",
        "my_tuple = (4, 5, 6)\n",
        "my_dict = {\"a\": 7, \"b\": 8, \"c\": 9}\n",
        "\n",
        "print(\"List:\", my_list)\n",
        "print(\"Tuple:\", my_tuple)\n",
        "print(\"Dictionary:\", my_dict)"
      ],
      "metadata": {
        "colab": {
          "base_uri": "https://localhost:8080/"
        },
        "id": "idzKomaiw6nD",
        "outputId": "4bed8983-dbf6-4204-d91f-f96a089e5921"
      },
      "execution_count": 31,
      "outputs": [
        {
          "output_type": "stream",
          "name": "stdout",
          "text": [
            "List: [1, 2, 3]\n",
            "Tuple: (4, 5, 6)\n",
            "Dictionary: {'a': 7, 'b': 8, 'c': 9}\n"
          ]
        }
      ]
    },
    {
      "cell_type": "code",
      "source": [
        "#27. Write a code to create a list of 5 random numbers between 1 and 100, sort it in ascending order, and print the result.\n",
        "\n",
        "import random\n",
        "\n",
        "random_numbers = [random.randint(1, 100) for _ in range(5)]\n",
        "random_numbers.sort()\n",
        "print(random_numbers)"
      ],
      "metadata": {
        "colab": {
          "base_uri": "https://localhost:8080/"
        },
        "id": "S9bZjiz_xAWs",
        "outputId": "71c42c02-69c8-4752-c4a1-30986c7326cf"
      },
      "execution_count": 38,
      "outputs": [
        {
          "output_type": "stream",
          "name": "stdout",
          "text": [
            "[33, 40, 63, 64, 95]\n"
          ]
        }
      ]
    },
    {
      "cell_type": "code",
      "source": [
        "#28. Write a code to create a list with strings and print the element at the third index.\n",
        "\n",
        "my_list = [\"apple\", \"banana\", \"orange\", \"grape\"]\n",
        "third_element = my_list[2]\n",
        "print(third_element)"
      ],
      "metadata": {
        "colab": {
          "base_uri": "https://localhost:8080/"
        },
        "id": "Z94anH4LxGDf",
        "outputId": "7cca9f6c-a1cf-4bba-e663-43fdb4f073b9"
      },
      "execution_count": 39,
      "outputs": [
        {
          "output_type": "stream",
          "name": "stdout",
          "text": [
            "orange\n"
          ]
        }
      ]
    },
    {
      "cell_type": "code",
      "source": [
        "#29. Write a code to combine two dictionaries into one and print the result.\n",
        "\n",
        "dict1 = {\"a\": 1, \"b\": 2}\n",
        "dict2 = {\"c\": 3, \"d\": 4}\n",
        "combined_dict = dict1.copy()\n",
        "combined_dict.update(dict2)\n",
        "print(combined_dict)"
      ],
      "metadata": {
        "colab": {
          "base_uri": "https://localhost:8080/"
        },
        "id": "sSP_d5e0xQUY",
        "outputId": "cf762de4-fcaf-4e2b-ff62-dd2e8134355d"
      },
      "execution_count": 40,
      "outputs": [
        {
          "output_type": "stream",
          "name": "stdout",
          "text": [
            "{'a': 1, 'b': 2, 'c': 3, 'd': 4}\n"
          ]
        }
      ]
    },
    {
      "cell_type": "code",
      "source": [
        "#30. Write a code to convert a list of strings into a set.\n",
        "\n",
        "my_list = [\"apple\", \"banana\", \"orange\"]\n",
        "my_set = set(my_list)\n",
        "print(my_set)"
      ],
      "metadata": {
        "colab": {
          "base_uri": "https://localhost:8080/"
        },
        "id": "hEDzTnAGxYyy",
        "outputId": "0abcefa2-47c1-45a1-b948-a60e979d8e14"
      },
      "execution_count": 41,
      "outputs": [
        {
          "output_type": "stream",
          "name": "stdout",
          "text": [
            "{'banana', 'apple', 'orange'}\n"
          ]
        }
      ]
    }
  ]
}